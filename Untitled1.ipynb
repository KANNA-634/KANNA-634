{
  "nbformat": 4,
  "nbformat_minor": 0,
  "metadata": {
    "colab": {
      "provenance": [],
      "authorship_tag": "ABX9TyP09Nowa0xkYOkTGJS6/QCi",
      "include_colab_link": true
    },
    "kernelspec": {
      "name": "python3",
      "display_name": "Python 3"
    },
    "language_info": {
      "name": "python"
    }
  },
  "cells": [
    {
      "cell_type": "markdown",
      "metadata": {
        "id": "view-in-github",
        "colab_type": "text"
      },
      "source": [
        "<a href=\"https://colab.research.google.com/github/KANNA-634/KANNA-634/blob/main/Untitled1.ipynb\" target=\"_parent\"><img src=\"https://colab.research.google.com/assets/colab-badge.svg\" alt=\"Open In Colab\"/></a>"
      ]
    },
    {
      "cell_type": "code",
      "execution_count": 8,
      "metadata": {
        "colab": {
          "base_uri": "https://localhost:8080/"
        },
        "id": "KX1xShzw6M61",
        "outputId": "8e669c09-8558-4491-8c6b-cd5cd90da0cd"
      },
      "outputs": [
        {
          "output_type": "stream",
          "name": "stdout",
          "text": [
            "<class 'pandas.core.frame.DataFrame'>\n",
            "RangeIndex: 569 entries, 0 to 568\n",
            "Data columns (total 33 columns):\n",
            " #   Column                   Non-Null Count  Dtype  \n",
            "---  ------                   --------------  -----  \n",
            " 0   id                       569 non-null    int64  \n",
            " 1   diagnosis                569 non-null    object \n",
            " 2   radius_mean              569 non-null    float64\n",
            " 3   texture_mean             569 non-null    float64\n",
            " 4   perimeter_mean           569 non-null    float64\n",
            " 5   area_mean                569 non-null    float64\n",
            " 6   smoothness_mean          569 non-null    float64\n",
            " 7   compactness_mean         569 non-null    float64\n",
            " 8   concavity_mean           569 non-null    float64\n",
            " 9   concave points_mean      569 non-null    float64\n",
            " 10  symmetry_mean            569 non-null    float64\n",
            " 11  fractal_dimension_mean   569 non-null    float64\n",
            " 12  radius_se                569 non-null    float64\n",
            " 13  texture_se               569 non-null    float64\n",
            " 14  perimeter_se             569 non-null    float64\n",
            " 15  area_se                  569 non-null    float64\n",
            " 16  smoothness_se            569 non-null    float64\n",
            " 17  compactness_se           569 non-null    float64\n",
            " 18  concavity_se             569 non-null    float64\n",
            " 19  concave points_se        569 non-null    float64\n",
            " 20  symmetry_se              569 non-null    float64\n",
            " 21  fractal_dimension_se     569 non-null    float64\n",
            " 22  radius_worst             569 non-null    float64\n",
            " 23  texture_worst            569 non-null    float64\n",
            " 24  perimeter_worst          569 non-null    float64\n",
            " 25  area_worst               569 non-null    float64\n",
            " 26  smoothness_worst         569 non-null    float64\n",
            " 27  compactness_worst        569 non-null    float64\n",
            " 28  concavity_worst          569 non-null    float64\n",
            " 29  concave points_worst     569 non-null    float64\n",
            " 30  symmetry_worst           569 non-null    float64\n",
            " 31  fractal_dimension_worst  569 non-null    float64\n",
            " 32  Unnamed: 32              0 non-null      float64\n",
            "dtypes: float64(31), int64(1), object(1)\n",
            "memory usage: 146.8+ KB\n",
            "              precision    recall  f1-score   support\n",
            "\n",
            "           B       0.98      0.95      0.97       102\n",
            "           M       0.93      0.97      0.95        69\n",
            "\n",
            "    accuracy                           0.96       171\n",
            "   macro avg       0.96      0.96      0.96       171\n",
            "weighted avg       0.96      0.96      0.96       171\n",
            "\n"
          ]
        }
      ],
      "source": [
        "from IPython.core.compilerop import CachingCompiler\n",
        "#step1: import library\n",
        "import pandas as pd\n",
        "#step 2 : import data\n",
        "cancer = pd.read_csv('https://github.com/YBIFoundation/Dataset/raw/main/Cancer.csv')\n",
        "#step 3 :\n",
        "cancer.head()\n",
        "#step 4 :\n",
        "cancer.info()\n",
        "#step 5 :\n",
        "cancer.describe()\n",
        "#step 6 : define target (y) and features (x)\n",
        "#step 7 :\n",
        "cancer.columns\n",
        "#step 8 :\n",
        "y = cancer['diagnosis']\n",
        "#step 9 :\n",
        "x = cancer.drop(['id','diagnosis','Unnamed: 32'],axis=1)\n",
        "#step 10 : train test split\n",
        "from sklearn.model_selection import train_test_split\n",
        "x_train,x_test,y_train,y_test=train_test_split(x,y,train_size=0.7,random_state=2529)\n",
        "#step 11 : check shape of train and test sample\n",
        "x_train.shape,x_test.shape,y_train.shape,y_test.shape\n",
        "#step 12 : select model\n",
        "from sklearn.linear_model import LogisticRegression\n",
        "model = LogisticRegression(max_iter=5000)\n",
        "#step 13 : train or fit model\n",
        "model.fit(x_train,y_train)\n",
        "#step 14 :\n",
        "model.intercept_\n",
        "#step 15 :\n",
        "model.coef_\n",
        "#step 16 :predict model\n",
        "y_pred = model.predict(x_test)\n",
        "#step 17 :\n",
        "y_pred\n",
        "#step 18 : model accuracy\n",
        "from sklearn.metrics import confusion_matrix,accuracy_score,classification_report\n",
        "#step 19 :\n",
        "confusion_matrix(y_test,y_pred)\n",
        "#step 20 :\n",
        "accuracy_score(y_test,y_pred)\n",
        "#step 21 :\n",
        "print(classification_report(y_test,y_pred))"
      ]
    },
    {
      "cell_type": "code",
      "source": [],
      "metadata": {
        "id": "A8miRJRY9cFX"
      },
      "execution_count": null,
      "outputs": []
    }
  ]
}